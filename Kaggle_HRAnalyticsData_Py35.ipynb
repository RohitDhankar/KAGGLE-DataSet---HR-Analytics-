{
 "cells": [
  {
   "cell_type": "code",
   "execution_count": 1,
   "metadata": {
    "collapsed": false
   },
   "outputs": [],
   "source": [
    "# My GitHubRepo - https://github.com/RohitDhankar\n",
    "#\n",
    "# Python 3.5 Notebook to be uploaded to Kaggle - Python 3.5 virtual env activated - usually work with 2.7 \n",
    "#\n",
    "#conda create -n py35 python=3.5 ipykernel\n",
    "#source activate py35\n",
    "#\n",
    "# conda create -n py27 python=2.7 ipykernel\n",
    "# source activate py27\n"
   ]
  },
  {
   "cell_type": "markdown",
   "metadata": {},
   "source": [
    "# STEP -1\n",
    "### Feature Reduction - defined as Reducing Number of Features ,utilized for Classification. \n",
    " Before we proceed with Classification - we \"may need\" - Feature Reduction. Feature reduction is also known as Dimensionality Reduction. \n",
    " WIKI - https://en.wikipedia.org/wiki/Dimensionality_reduction\n",
    "\n",
    "\n",
    "### Factor Analysis - Factor Analysis is in ceratin litterature quoted as a Feature Reduction technique , but its NOT to be considered so . \n",
    "  Quoting Prof Mitra IIT Kanpur - Source - http://textofvideo.nptel.iitm.ac.in/111104024/lec38.pdf\n",
    "   \"FA explains the covariance structure or the  variance  covariance  structure, of  a  random  vector in terms  of  a  few  underlying  unobservable  factors.\" \n",
    "\n",
    " According to Wiki quoted below - Exploratory Factor Analysis is the better option - compared to PCA \n",
    "\n",
    "###   \" Clearly though, PCA is a more basic version of exploratory factor analysis (EFA) that was developed in the early days prior to the advent of high-speed computers. From the point of view of exploratory analysis, the eigenvalues of PCA are inflated component loadings, i.e., contaminated with error variance\"\n",
    "\n",
    " Source --- https://en.wikipedia.org/wiki/Factor_analysis\n",
    " EFA , FA - Not done yet for this Data Set as i dont think there is a need for the same . PCA done that too may not turn out to be effective or desired. \n",
    "\n",
    "\n",
    "# STEP -3\n",
    "### Principal Component Analysis - PCA \n",
    " PCA is usually not done for a Data Set if most Features are Categorical.  Thus i dont see a need for a PCA here but we shall still do a PCA and see how the predictions are in comparison to a Non PCA RAW DATA set. \n",
    " \n",
    " Source :-  http://scikit-learn.org/stable/auto_examples/plot_compare_reduction.html#sphx-glr-auto-examples-plot-compare-reduction-py\n",
    " When a PCA is undertaken:- \n",
    " - We dont include RESPONSE variable - Attrited Employees == \"left\".\n",
    " - Cant include any other Binomial Or Categorical Variables.\n",
    " - Categorical to be included only when we use \"advanced methods\" for PCA.\n",
    " - Advanced methods for PCA :- http://stats.stackexchange.com/questions/14002/whats-the-difference-between-principal-component-analysis-and-multidimensional/14013#14013\n",
    " - Advanced methods out of scope for now.ToBeDone - Try with \"advanced methods\" including Categorical Variables. \n",
    "\n",
    "\n",
    "# STEP -4\n",
    "### Pre Processing Data \n",
    "### Standardize Variables :- \n",
    "   - \"Democracy amongst Variables\" lets ensure All features have- Mean =0 and Variance =1 \n",
    "\n",
    "### Multiple options for SCALING and STANDARDIZATION with scikitlearn \n",
    "- Option -1 sklearn.preprocessing.scale - Not Done. Type= Function.\n",
    "- Option -2 sklearn.preprocessing.StandardScaler -Done. Type= Utility Class. \n",
    "- Option -3 MinMax Scaler -Not Required with this DataSet.\n",
    "\n",
    "## Dataset Train & Test Split -- k Fold CrossValidation with StartShuffleSplit - Done \n",
    "\n",
    "# STEP -5 \n",
    "### Choosing Classifiers :- \n",
    "\n",
    "- Logistic Regression \n",
    "- kNN - k Nearest Neighbour\n",
    "- Naive Bayes - Done but rejected - as not a good choice for this Dataset. \n",
    "- Neural Network [MLP] Multi Layer Perceptron - TBD \n",
    "- Support Vector Machine - TBD \n",
    "- Decision Tree - TBD \n",
    "- Random Forests - TBD \n",
    "- XGBoost - TBD \n",
    "- TPOT and other \"Related Projects\" -- http://scikit-learn.org/stable/related_projects.html#related-projects\n",
    "- Pipeline the Classifiers - discover other options to auto-mate with Pipeline \n",
    "- Keras , TensorFlow , Theano - what else have you ? \n",
    "\n",
    "\n",
    "# STEP -6\n",
    "### Model Evaluation\n",
    " Need to ensure CLASSIFICATION ACCURACY displayed by Model on any Test data set\n",
    " is greater than - Ratio of Classes in Sample or Population  [All Train + All Test sets] \n",
    "\n",
    "# STEP -7 - TBD \n",
    " Advanced Data Visualization \n",
    " Plot AUC and ROC Curves etc -[ToBeDone Later]-- look at own code from RStats and earlier Py27 Notebooks.  \n",
    "\n",
    "# STEP -8\n",
    " Look at Excel worksheets and R Parallels for this Project - using same Sample Data Set. Compare Performance as per Accuracy and Time etc. \n",
    "\n",
    "# STEP 9 \n",
    " Further investigation - Survival Analysis :- predicting when an employee is most likely to Churn or Exit. \n",
    "\n"
   ]
  },
  {
   "cell_type": "code",
   "execution_count": 2,
   "metadata": {
    "collapsed": false
   },
   "outputs": [
    {
     "name": "stdout",
     "output_type": "stream",
     "text": [
      "Decision_Tree_HR_Analytics.ipynb\n",
      "dfh1_Test.csv\n",
      "dfh_Test.csv\n",
      "HR_Analytics_IBM_WATSON_SampleDataSet_7.ipynb\n",
      "HR_comma_sep.csv\n",
      "Kaggle_Copy_HR_Analytics_IBM_WATSON_SampleDataSet_7.ipynb\n",
      "Kaggle_HRAnalyticsData_Py35.ipynb\n",
      "Py35_Activate.txt\n",
      "R_Scrpts\n",
      "Untitled.ipynb\n",
      "\n"
     ]
    }
   ],
   "source": [
    "# This Python 3 environment comes with many helpful analytics libraries installed\n",
    "# It is defined by the kaggle/python docker image: https://github.com/kaggle/docker-python\n",
    "# For example, here's several helpful packages to load in \n",
    "# Input data files are available in the \"../input/\" directory.\n",
    "# For example, running this (by clicking run or pressing Shift+Enter) will list the files in the input directory\n",
    "\n",
    "from subprocess import check_output\n",
    "#print(check_output([\"ls\", \"../input\"]).decode(\"utf8\")) # On Kaggle \n",
    "print(check_output([\"ls\", \"/home/dhankar/spark-2.0.2-bin-hadoop2.7/DHANK/__Kaggle\"]).decode(\"utf8\")) # Offline \n",
    "\n",
    "# /home/dhankar/spark-2.0.2-bin-hadoop2.7/DHANK/__Kaggle\n",
    "# https://docs.python.org/3.5/library/subprocess.html#subprocess.check_output\n",
    "\n",
    "# Any results you write to the current directory are saved as output."
   ]
  },
  {
   "cell_type": "code",
   "execution_count": 3,
   "metadata": {
    "collapsed": false
   },
   "outputs": [
    {
     "name": "stderr",
     "output_type": "stream",
     "text": [
      "/home/dhankar/anaconda2/envs/py35/lib/python3.5/site-packages/IPython/html.py:14: ShimWarning: The `IPython.html` package has been deprecated. You should import from `notebook` instead. `IPython.html.widgets` has moved to `ipywidgets`.\n",
      "  \"`IPython.html.widgets` has moved to `ipywidgets`.\", ShimWarning)\n"
     ]
    }
   ],
   "source": [
    "import numpy as np # linear algebra\n",
    "import pandas as pd # data processing, CSV file I/O (e.g. pd.read_csv)\n",
    "import matplotlib as mpl\n",
    "import matplotlib.pyplot as plt\n",
    "import seaborn as sns\n",
    "from sklearn import mixture\n",
    "from sklearn.decomposition import PCA\n",
    "from sklearn.metrics import confusion_matrix\n",
    "%matplotlib inline"
   ]
  },
  {
   "cell_type": "code",
   "execution_count": 4,
   "metadata": {
    "collapsed": false
   },
   "outputs": [
    {
     "data": {
      "text/html": [
       "<div>\n",
       "<table border=\"1\" class=\"dataframe\">\n",
       "  <thead>\n",
       "    <tr style=\"text-align: right;\">\n",
       "      <th></th>\n",
       "      <th>satisfaction_level</th>\n",
       "      <th>last_evaluation</th>\n",
       "      <th>number_project</th>\n",
       "      <th>average_montly_hours</th>\n",
       "      <th>time_spend_company</th>\n",
       "      <th>Work_accident</th>\n",
       "      <th>left</th>\n",
       "      <th>promotion_last_5years</th>\n",
       "      <th>sales</th>\n",
       "      <th>salary</th>\n",
       "    </tr>\n",
       "  </thead>\n",
       "  <tbody>\n",
       "    <tr>\n",
       "      <th>0</th>\n",
       "      <td>0.38</td>\n",
       "      <td>0.53</td>\n",
       "      <td>2</td>\n",
       "      <td>157</td>\n",
       "      <td>3</td>\n",
       "      <td>0</td>\n",
       "      <td>1</td>\n",
       "      <td>0</td>\n",
       "      <td>sales</td>\n",
       "      <td>low</td>\n",
       "    </tr>\n",
       "    <tr>\n",
       "      <th>1</th>\n",
       "      <td>0.80</td>\n",
       "      <td>0.86</td>\n",
       "      <td>5</td>\n",
       "      <td>262</td>\n",
       "      <td>6</td>\n",
       "      <td>0</td>\n",
       "      <td>1</td>\n",
       "      <td>0</td>\n",
       "      <td>sales</td>\n",
       "      <td>medium</td>\n",
       "    </tr>\n",
       "    <tr>\n",
       "      <th>2</th>\n",
       "      <td>0.11</td>\n",
       "      <td>0.88</td>\n",
       "      <td>7</td>\n",
       "      <td>272</td>\n",
       "      <td>4</td>\n",
       "      <td>0</td>\n",
       "      <td>1</td>\n",
       "      <td>0</td>\n",
       "      <td>sales</td>\n",
       "      <td>medium</td>\n",
       "    </tr>\n",
       "    <tr>\n",
       "      <th>3</th>\n",
       "      <td>0.72</td>\n",
       "      <td>0.87</td>\n",
       "      <td>5</td>\n",
       "      <td>223</td>\n",
       "      <td>5</td>\n",
       "      <td>0</td>\n",
       "      <td>1</td>\n",
       "      <td>0</td>\n",
       "      <td>sales</td>\n",
       "      <td>low</td>\n",
       "    </tr>\n",
       "    <tr>\n",
       "      <th>4</th>\n",
       "      <td>0.37</td>\n",
       "      <td>0.52</td>\n",
       "      <td>2</td>\n",
       "      <td>159</td>\n",
       "      <td>3</td>\n",
       "      <td>0</td>\n",
       "      <td>1</td>\n",
       "      <td>0</td>\n",
       "      <td>sales</td>\n",
       "      <td>low</td>\n",
       "    </tr>\n",
       "  </tbody>\n",
       "</table>\n",
       "</div>"
      ],
      "text/plain": [
       "   satisfaction_level  last_evaluation  number_project  average_montly_hours  \\\n",
       "0                0.38             0.53               2                   157   \n",
       "1                0.80             0.86               5                   262   \n",
       "2                0.11             0.88               7                   272   \n",
       "3                0.72             0.87               5                   223   \n",
       "4                0.37             0.52               2                   159   \n",
       "\n",
       "   time_spend_company  Work_accident  left  promotion_last_5years  sales  \\\n",
       "0                   3              0     1                      0  sales   \n",
       "1                   6              0     1                      0  sales   \n",
       "2                   4              0     1                      0  sales   \n",
       "3                   5              0     1                      0  sales   \n",
       "4                   3              0     1                      0  sales   \n",
       "\n",
       "   salary  \n",
       "0     low  \n",
       "1  medium  \n",
       "2  medium  \n",
       "3     low  \n",
       "4     low  "
      ]
     },
     "execution_count": 4,
     "metadata": {},
     "output_type": "execute_result"
    }
   ],
   "source": [
    "df = pd.read_csv(\"HR_comma_sep.csv\")\n",
    "df.head(5)"
   ]
  },
  {
   "cell_type": "code",
   "execution_count": 5,
   "metadata": {
    "collapsed": false
   },
   "outputs": [
    {
     "data": {
      "text/html": [
       "<div>\n",
       "<table border=\"1\" class=\"dataframe\">\n",
       "  <thead>\n",
       "    <tr style=\"text-align: right;\">\n",
       "      <th></th>\n",
       "      <th>satisfaction_level</th>\n",
       "      <th>last_evaluation</th>\n",
       "      <th>number_project</th>\n",
       "      <th>average_montly_hours</th>\n",
       "      <th>time_spend_company</th>\n",
       "      <th>Work_accident</th>\n",
       "      <th>left</th>\n",
       "      <th>promotion_last_5years</th>\n",
       "      <th>sales</th>\n",
       "      <th>salary</th>\n",
       "    </tr>\n",
       "  </thead>\n",
       "  <tbody>\n",
       "    <tr>\n",
       "      <th>0</th>\n",
       "      <td>0.38</td>\n",
       "      <td>0.53</td>\n",
       "      <td>2</td>\n",
       "      <td>157</td>\n",
       "      <td>3</td>\n",
       "      <td>0</td>\n",
       "      <td>1</td>\n",
       "      <td>0</td>\n",
       "      <td>7</td>\n",
       "      <td>low</td>\n",
       "    </tr>\n",
       "    <tr>\n",
       "      <th>1</th>\n",
       "      <td>0.80</td>\n",
       "      <td>0.86</td>\n",
       "      <td>5</td>\n",
       "      <td>262</td>\n",
       "      <td>6</td>\n",
       "      <td>0</td>\n",
       "      <td>1</td>\n",
       "      <td>0</td>\n",
       "      <td>7</td>\n",
       "      <td>medium</td>\n",
       "    </tr>\n",
       "    <tr>\n",
       "      <th>2</th>\n",
       "      <td>0.11</td>\n",
       "      <td>0.88</td>\n",
       "      <td>7</td>\n",
       "      <td>272</td>\n",
       "      <td>4</td>\n",
       "      <td>0</td>\n",
       "      <td>1</td>\n",
       "      <td>0</td>\n",
       "      <td>7</td>\n",
       "      <td>medium</td>\n",
       "    </tr>\n",
       "    <tr>\n",
       "      <th>3</th>\n",
       "      <td>0.72</td>\n",
       "      <td>0.87</td>\n",
       "      <td>5</td>\n",
       "      <td>223</td>\n",
       "      <td>5</td>\n",
       "      <td>0</td>\n",
       "      <td>1</td>\n",
       "      <td>0</td>\n",
       "      <td>7</td>\n",
       "      <td>low</td>\n",
       "    </tr>\n",
       "    <tr>\n",
       "      <th>4</th>\n",
       "      <td>0.37</td>\n",
       "      <td>0.52</td>\n",
       "      <td>2</td>\n",
       "      <td>159</td>\n",
       "      <td>3</td>\n",
       "      <td>0</td>\n",
       "      <td>1</td>\n",
       "      <td>0</td>\n",
       "      <td>7</td>\n",
       "      <td>low</td>\n",
       "    </tr>\n",
       "  </tbody>\n",
       "</table>\n",
       "</div>"
      ],
      "text/plain": [
       "   satisfaction_level  last_evaluation  number_project  average_montly_hours  \\\n",
       "0                0.38             0.53               2                   157   \n",
       "1                0.80             0.86               5                   262   \n",
       "2                0.11             0.88               7                   272   \n",
       "3                0.72             0.87               5                   223   \n",
       "4                0.37             0.52               2                   159   \n",
       "\n",
       "   time_spend_company  Work_accident  left  promotion_last_5years  sales  \\\n",
       "0                   3              0     1                      0      7   \n",
       "1                   6              0     1                      0      7   \n",
       "2                   4              0     1                      0      7   \n",
       "3                   5              0     1                      0      7   \n",
       "4                   3              0     1                      0      7   \n",
       "\n",
       "   salary  \n",
       "0     low  \n",
       "1  medium  \n",
       "2  medium  \n",
       "3     low  \n",
       "4     low  "
      ]
     },
     "execution_count": 5,
     "metadata": {},
     "output_type": "execute_result"
    }
   ],
   "source": [
    "mymap = {'accounting':1,'hr':2,'IT':3, 'management': 4 ,'marketing':3, 'product_mng' :5 , \n",
    "         'RandD':6,'sales':7,'support':8,'technical':9,}\n",
    "\n",
    "#\n",
    "dfh =df.applymap(lambda s: mymap.get(s) if s in mymap else s)\n",
    "#\n",
    "dfh.head(5)\n",
    "\n",
    "# TBD- LabelEncoder - http://scikit-learn.org/stable/modules/generated/sklearn.preprocessing.LabelEncoder.html\n",
    "#\n",
    "# http://pandas.pydata.org/pandas-docs/stable/generated/pandas.DataFrame.applymap.html\n",
    "# http://pandas.pydata.org/pandas-docs/stable/indexing.html\n",
    "\n",
    "#dfh.to_csv('dfh_Test.csv') # Ok for down csv "
   ]
  },
  {
   "cell_type": "code",
   "execution_count": 6,
   "metadata": {
    "collapsed": false
   },
   "outputs": [
    {
     "data": {
      "text/html": [
       "<div>\n",
       "<table border=\"1\" class=\"dataframe\">\n",
       "  <thead>\n",
       "    <tr style=\"text-align: right;\">\n",
       "      <th></th>\n",
       "      <th>satisfaction_level</th>\n",
       "      <th>last_evaluation</th>\n",
       "      <th>number_project</th>\n",
       "      <th>average_montly_hours</th>\n",
       "      <th>time_spend_company</th>\n",
       "      <th>Work_accident</th>\n",
       "      <th>left</th>\n",
       "      <th>promotion_last_5years</th>\n",
       "      <th>sales</th>\n",
       "      <th>salary</th>\n",
       "    </tr>\n",
       "  </thead>\n",
       "  <tbody>\n",
       "    <tr>\n",
       "      <th>0</th>\n",
       "      <td>0.38</td>\n",
       "      <td>0.53</td>\n",
       "      <td>2</td>\n",
       "      <td>157</td>\n",
       "      <td>3</td>\n",
       "      <td>0</td>\n",
       "      <td>1</td>\n",
       "      <td>0</td>\n",
       "      <td>7</td>\n",
       "      <td>1</td>\n",
       "    </tr>\n",
       "    <tr>\n",
       "      <th>1</th>\n",
       "      <td>0.80</td>\n",
       "      <td>0.86</td>\n",
       "      <td>5</td>\n",
       "      <td>262</td>\n",
       "      <td>6</td>\n",
       "      <td>0</td>\n",
       "      <td>1</td>\n",
       "      <td>0</td>\n",
       "      <td>7</td>\n",
       "      <td>2</td>\n",
       "    </tr>\n",
       "    <tr>\n",
       "      <th>2</th>\n",
       "      <td>0.11</td>\n",
       "      <td>0.88</td>\n",
       "      <td>7</td>\n",
       "      <td>272</td>\n",
       "      <td>4</td>\n",
       "      <td>0</td>\n",
       "      <td>1</td>\n",
       "      <td>0</td>\n",
       "      <td>7</td>\n",
       "      <td>2</td>\n",
       "    </tr>\n",
       "    <tr>\n",
       "      <th>3</th>\n",
       "      <td>0.72</td>\n",
       "      <td>0.87</td>\n",
       "      <td>5</td>\n",
       "      <td>223</td>\n",
       "      <td>5</td>\n",
       "      <td>0</td>\n",
       "      <td>1</td>\n",
       "      <td>0</td>\n",
       "      <td>7</td>\n",
       "      <td>1</td>\n",
       "    </tr>\n",
       "    <tr>\n",
       "      <th>4</th>\n",
       "      <td>0.37</td>\n",
       "      <td>0.52</td>\n",
       "      <td>2</td>\n",
       "      <td>159</td>\n",
       "      <td>3</td>\n",
       "      <td>0</td>\n",
       "      <td>1</td>\n",
       "      <td>0</td>\n",
       "      <td>7</td>\n",
       "      <td>1</td>\n",
       "    </tr>\n",
       "  </tbody>\n",
       "</table>\n",
       "</div>"
      ],
      "text/plain": [
       "   satisfaction_level  last_evaluation  number_project  average_montly_hours  \\\n",
       "0                0.38             0.53               2                   157   \n",
       "1                0.80             0.86               5                   262   \n",
       "2                0.11             0.88               7                   272   \n",
       "3                0.72             0.87               5                   223   \n",
       "4                0.37             0.52               2                   159   \n",
       "\n",
       "   time_spend_company  Work_accident  left  promotion_last_5years  sales  \\\n",
       "0                   3              0     1                      0      7   \n",
       "1                   6              0     1                      0      7   \n",
       "2                   4              0     1                      0      7   \n",
       "3                   5              0     1                      0      7   \n",
       "4                   3              0     1                      0      7   \n",
       "\n",
       "   salary  \n",
       "0       1  \n",
       "1       2  \n",
       "2       2  \n",
       "3       1  \n",
       "4       1  "
      ]
     },
     "execution_count": 6,
     "metadata": {},
     "output_type": "execute_result"
    }
   ],
   "source": [
    "mymap = {'low':1,'medium':2,'high':3}\n",
    "#\n",
    "dfh1 =dfh.applymap(lambda s: mymap.get(s) if s in mymap else s)\n",
    "#\n",
    "dfh1.head(5)\n",
    "#\n",
    "#dfh1.to_csv('dfh1_Test.csv') # Ok for down csv "
   ]
  },
  {
   "cell_type": "code",
   "execution_count": 7,
   "metadata": {
    "collapsed": false
   },
   "outputs": [
    {
     "name": "stdout",
     "output_type": "stream",
     "text": [
      "   satisfaction_level  last_evaluation  number_project  average_montly_hours  \\\n",
      "0                0.38             0.53               2                   157   \n",
      "1                0.80             0.86               5                   262   \n",
      "2                0.11             0.88               7                   272   \n",
      "3                0.72             0.87               5                   223   \n",
      "4                0.37             0.52               2                   159   \n",
      "\n",
      "   time_spend_company  Work_accident  promotion_last_5years  sales  salary  \n",
      "0                   3              0                      0      7       1  \n",
      "1                   6              0                      0      7       2  \n",
      "2                   4              0                      0      7       2  \n",
      "3                   5              0                      0      7       1  \n",
      "4                   3              0                      0      7       1  \n",
      "__________________________________________________________________________________________\n",
      "(14999, 9)\n",
      "__________________________________________________________________________________________\n",
      "['satisfaction_level' 'last_evaluation' 'number_project'\n",
      " 'average_montly_hours' 'time_spend_company' 'Work_accident'\n",
      " 'promotion_last_5years' 'sales' 'salary']\n",
      "__________________________________________________________________________________________\n",
      "['left']\n",
      "__________________________________________________________________________________________\n",
      "(14999, 1)\n",
      "__________________________________________________________________________________________\n",
      "0    11428\n",
      "1     3571\n",
      "Name: left, dtype: int64\n"
     ]
    }
   ],
   "source": [
    "dfh2 = dfh1.drop(df.columns[[6]],axis=1,inplace=False) # Drop the Target Feature\n",
    "print(dfh2.head(5))\n",
    "print (\"_\"*90)\n",
    "print (dfh2.shape)\n",
    "names = dfh2.columns.values\n",
    "print (\"_\"*90)\n",
    "print (names)\n",
    "dfh3 = pd.DataFrame(dfh1[\"left\"]) #  Interim DF only -Target Feature\n",
    "names1 = dfh3.columns.values\n",
    "print (\"_\"*90)\n",
    "print (names1)\n",
    "print (\"_\"*90)\n",
    "print (dfh3.shape)\n",
    "print (\"_\"*90)\n",
    "print (dfh3[\"left\"].value_counts()) # Here - 0 == Live Employee [11428] , 1 == Exited Employee / Attrited Employee[3571]\n",
    "#\n"
   ]
  },
  {
   "cell_type": "code",
   "execution_count": 8,
   "metadata": {
    "collapsed": false
   },
   "outputs": [
    {
     "data": {
      "text/plain": [
       "<matplotlib.axes._subplots.AxesSubplot at 0x7f7e2094acc0>"
      ]
     },
     "execution_count": 8,
     "metadata": {},
     "output_type": "execute_result"
    },
    {
     "data": {
      "image/png": "[encoded data removed]",
      "text/plain": [
       "<matplotlib.figure.Figure at 0x7f7e20a20cf8>"
      ]
     },
     "metadata": {},
     "output_type": "display_data"
    }
   ],
   "source": [
    "# Dataset boxplot for Means and Variances \n",
    "dfh2.plot(kind='box', vert=False)\n",
    "\n",
    "# Seen below - Features have large Variance - data set needs std and scaling "
   ]
  },
  {
   "cell_type": "code",
   "execution_count": 9,
   "metadata": {
    "collapsed": false
   },
   "outputs": [
    {
     "data": {
      "text/plain": [
       "<matplotlib.axes._subplots.AxesSubplot at 0x7f7e20772390>"
      ]
     },
     "execution_count": 9,
     "metadata": {},
     "output_type": "execute_result"
    },
    {
     "data": {
      "image/png": "[encoded data removed]",
      "text/plain": [
       "<matplotlib.figure.Figure at 0x7f7e20753780>"
      ]
     },
     "metadata": {},
     "output_type": "display_data"
    }
   ],
   "source": [
    "#  Density plot\n",
    "dfh2.plot(kind='kde')\n",
    "# No inference drawn as of now - To be Explored ..........??? \n"
   ]
  },
  {
   "cell_type": "code",
   "execution_count": 12,
   "metadata": {
    "collapsed": false
   },
   "outputs": [
    {
     "name": "stdout",
     "output_type": "stream",
     "text": [
      "--------------- CREATE A HEATMAP ---------------\n"
     ]
    },
    {
     "data": {
      "image/png": "[encoded data removed]",
      "text/plain": [
       "<matplotlib.figure.Figure at 0x7f7e1e66f3c8>"
      ]
     },
     "metadata": {},
     "output_type": "display_data"
    }
   ],
   "source": [
    "#Source -- http://www.tradinggeeks.net/2015/08/calculating-correlation-in-python/\n",
    "\n",
    "print(\"--------------- CREATE A HEATMAP ---------------\")\n",
    "# Create a mask to display only the lower triangle of the matrix (since it's mirrored around its \n",
    "# top-left to bottom-right diagonal).\n",
    "mask = np.zeros_like(corr_df)\n",
    "mask[np.triu_indices_from(mask)] = True\n",
    "# Create the heatmap using seaborn library. \n",
    "# List if colormaps (parameter 'cmap') is available here: http://matplotlib.org/examples/color/colormaps_reference.html\n",
    "sns.heatmap(corr_df, cmap='RdYlGn_r', vmax=1.0, vmin=-1.0 , mask = mask, linewidths=2.5)\n",
    " \n",
    "# Show the plot we reorient the labels for each column and row to make them easier to read.\n",
    "plt.yticks(rotation=0) \n",
    "plt.xticks(rotation=90) \n",
    "plt.show()"
   ]
  },
  {
   "cell_type": "markdown",
   "metadata": {},
   "source": [
    "### Inference from Corr Plot - \n",
    "\n",
    "- \"Time_Spent_at_Company\" - NEGATIVELY impacting - Satisfaction_Levels \n",
    "- \"Last_Eval\" - POSITIVELY Correlated with - \"number_project\" and \"Average_Monthly_Hrs\" seems higher performers get more work . \n",
    "- "
   ]
  },
  {
   "cell_type": "code",
   "execution_count": 11,
   "metadata": {
    "collapsed": false
   },
   "outputs": [
    {
     "name": "stdout",
     "output_type": "stream",
     "text": [
      "                       satisfaction_level  last_evaluation  number_project  \\\n",
      "satisfaction_level               1.000000         0.105021       -0.142970   \n",
      "last_evaluation                  0.105021         1.000000        0.349333   \n",
      "number_project                  -0.142970         0.349333        1.000000   \n",
      "average_montly_hours            -0.020048         0.339742        0.417211   \n",
      "time_spend_company              -0.100866         0.131591        0.196786   \n",
      "Work_accident                    0.058697        -0.007104       -0.004741   \n",
      "promotion_last_5years            0.025605        -0.008684       -0.006064   \n",
      "sales                            0.010765         0.007920        0.022636   \n",
      "salary                           0.050022        -0.013002       -0.001803   \n",
      "\n",
      "                       average_montly_hours  time_spend_company  \\\n",
      "satisfaction_level                -0.020048           -0.100866   \n",
      "last_evaluation                    0.339742            0.131591   \n",
      "number_project                     0.417211            0.196786   \n",
      "average_montly_hours               1.000000            0.127755   \n",
      "time_spend_company                 0.127755            1.000000   \n",
      "Work_accident                     -0.010143            0.002120   \n",
      "promotion_last_5years             -0.003544            0.067433   \n",
      "sales                              0.009352           -0.032934   \n",
      "salary                            -0.002242            0.048715   \n",
      "\n",
      "                       Work_accident  promotion_last_5years     sales  \\\n",
      "satisfaction_level          0.058697               0.025605  0.010765   \n",
      "last_evaluation            -0.007104              -0.008684  0.007920   \n",
      "number_project             -0.004741              -0.006064  0.022636   \n",
      "average_montly_hours       -0.010143              -0.003544  0.009352   \n",
      "time_spend_company          0.002120               0.067433 -0.032934   \n",
      "Work_accident               1.000000               0.039245  0.008938   \n",
      "promotion_last_5years       0.039245               1.000000 -0.040427   \n",
      "sales                       0.008938              -0.040427  1.000000   \n",
      "salary                      0.009247               0.098119 -0.055691   \n",
      "\n",
      "                         salary  \n",
      "satisfaction_level     0.050022  \n",
      "last_evaluation       -0.013002  \n",
      "number_project        -0.001803  \n",
      "average_montly_hours  -0.002242  \n",
      "time_spend_company     0.048715  \n",
      "Work_accident          0.009247  \n",
      "promotion_last_5years  0.098119  \n",
      "sales                 -0.055691  \n",
      "salary                 1.000000  \n"
     ]
    }
   ],
   "source": [
    "# Another Correlation from DFH2 Data \n",
    "\n",
    "corr_df = dfh2.corr(method='pearson')\n",
    "\n",
    "print(corr_df.head(len(dfh2))) # Not required as we are plottng the Correlation above \n",
    "\n",
    "# We can look at Column 1 of the Print out below - see what all Features have a \n",
    "# greater than 0.1 Corr value - Negative or Positive both considered . "
   ]
  }
 ],
 "metadata": {
  "anaconda-cloud": {},
  "kernelspec": {
   "display_name": "Python [conda env:py35]",
   "language": "python",
   "name": "conda-env-py35-py"
  },
  "language_info": {
   "codemirror_mode": {
    "name": "ipython",
    "version": 3
   },
   "file_extension": ".py",
   "mimetype": "text/x-python",
   "name": "python",
   "nbconvert_exporter": "python",
   "pygments_lexer": "ipython3",
   "version": "3.5.2"
  }
 },
 "nbformat": 4,
 "nbformat_minor": 1
}
